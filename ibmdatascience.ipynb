{
 "cells": [
  {
   "cell_type": "markdown",
   "id": "0b9f494f",
   "metadata": {},
   "source": [
    "# My Jupyter Notebook on IBM Watson Studio"
   ]
  },
  {
   "cell_type": "markdown",
   "id": "75d45b06",
   "metadata": {},
   "source": [
    "**Nikita Shpilevoi**\n",
    "Entrepreneur"
   ]
  },
  {
   "cell_type": "markdown",
   "id": "4c46b528",
   "metadata": {},
   "source": [
    "*I am interested in data science because I would like to take all the data I analyze and use strategy to find insights in it.*"
   ]
  },
  {
   "cell_type": "markdown",
   "id": "f25c3cc2",
   "metadata": {},
   "source": [
    "### Cell 5 shows that 0 powered 0 is 1"
   ]
  },
  {
   "cell_type": "code",
   "execution_count": 5,
   "id": "fecd7a61",
   "metadata": {},
   "outputs": [
    {
     "name": "stdout",
     "output_type": "stream",
     "text": [
      "1\n"
     ]
    }
   ],
   "source": [
    "print(0 ** 0)"
   ]
  },
  {
   "cell_type": "markdown",
   "id": "bc20f8ec",
   "metadata": {},
   "source": [
    "Using Markdown or HTML, this cell must include at least 3 of the following: \n",
    "    horizontal rule, bulleted list, numbered list, tables, hyperlinks, images, \n",
    "    code/syntax highlighting, blocked quotes, strikethrough.\n",
    "    \n",
    "* Bullet 1\n",
    "* Bullet 2\n",
    "* Bullet 3\n",
    "\n",
    "1. Number 1\n",
    "2. Number 2\n",
    "3. Number 3\n",
    "\n",
    "[Hyperlink](https://www.coursera.org/learn/open-source-tools-for-data-science)"
   ]
  }
 ],
 "metadata": {
  "kernelspec": {
   "display_name": "Python 3 (ipykernel)",
   "language": "python",
   "name": "python3"
  },
  "language_info": {
   "codemirror_mode": {
    "name": "ipython",
    "version": 3
   },
   "file_extension": ".py",
   "mimetype": "text/x-python",
   "name": "python",
   "nbconvert_exporter": "python",
   "pygments_lexer": "ipython3",
   "version": "3.9.10"
  }
 },
 "nbformat": 4,
 "nbformat_minor": 5
}
